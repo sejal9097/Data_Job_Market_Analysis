{
 "cells": [
  {
   "cell_type": "markdown",
   "id": "7eaa6ceb",
   "metadata": {},
   "source": [
    "# **Exploratory Data Analysis & Introduction**"
   ]
  },
  {
   "cell_type": "markdown",
   "id": "ecc5be5b",
   "metadata": {},
   "source": [
    "#### **Goal**"
   ]
  },
  {
   "cell_type": "markdown",
   "id": "eff3edf5",
   "metadata": {},
   "source": [
    "1. Investigate top-paying roles and skills in the data science industry.\n",
    "2. Use Python to explore a real-live dataset on job postings.\n",
    "3. For job-seekers: use these insights to help find the best job opportunities."
   ]
  },
  {
   "cell_type": "markdown",
   "id": "b73c66b0",
   "metadata": {},
   "source": [
    "#### **Deliverables**"
   ]
  },
  {
   "cell_type": "markdown",
   "id": "e08f2539",
   "metadata": {},
   "source": [
    "1. Create Jupyter Notebookss (showcasing core skills in Python).\n",
    "2. Create a summary page (via README.md) capturing your findings.\n",
    "3. Share this project via GitHub & LinkedIn."
   ]
  },
  {
   "cell_type": "markdown",
   "id": "3f662ea3",
   "metadata": {},
   "source": [
    "#### **Questions to Answer**"
   ]
  },
  {
   "cell_type": "markdown",
   "id": "122f0b47",
   "metadata": {},
   "source": [
    "1. What are the most demanded skills for the top 3 most popular data roles?\n",
    "2. How are in-demand skills trending for Data Analysts?\n",
    "3. How well do jobs and skills pay for Data Analysts?\n",
    "4. What is the most optimal skill to learn for Data Analysts? (High Demand AND High Paying)"
   ]
  },
  {
   "cell_type": "markdown",
   "id": "6eaed9e6",
   "metadata": {},
   "source": [
    "I'll be focusing on India Data Analyst roles"
   ]
  }
 ],
 "metadata": {
  "kernelspec": {
   "display_name": "Python_course",
   "language": "python",
   "name": "python3"
  },
  "language_info": {
   "name": "python",
   "version": "3.11.13"
  }
 },
 "nbformat": 4,
 "nbformat_minor": 5
}
